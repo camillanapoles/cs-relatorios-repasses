{
 "cells": [
  {
   "cell_type": "code",
   "execution_count": 13,
   "id": "06917ce5-c88b-45fa-9297-b3526f00f4f0",
   "metadata": {
    "tags": []
   },
   "outputs": [
    {
     "ename": "ModuleNotFoundError",
     "evalue": "No module named 'cnmfs'",
     "output_type": "error",
     "traceback": [
      "\u001b[0;31m---------------------------------------------------------------------------\u001b[0m",
      "\u001b[0;31mModuleNotFoundError\u001b[0m                       Traceback (most recent call last)",
      "\u001b[1;32m/home/cnmfs/ciadosorriso-pyspark/data/cs-relatorios-repasses/notebook.ipynb Célula 1\u001b[0m line \u001b[0;36m3\n\u001b[1;32m      <a href='vscode-notebook-cell://ssh-remote%2Bcs-cnmfs/home/cnmfs/ciadosorriso-pyspark/data/cs-relatorios-repasses/notebook.ipynb#W0sdnNjb2RlLXJlbW90ZQ%3D%3D?line=0'>1</a>\u001b[0m \u001b[39mimport\u001b[39;00m \u001b[39mpandas\u001b[39;00m \u001b[39mas\u001b[39;00m \u001b[39mpd\u001b[39;00m\n\u001b[1;32m      <a href='vscode-notebook-cell://ssh-remote%2Bcs-cnmfs/home/cnmfs/ciadosorriso-pyspark/data/cs-relatorios-repasses/notebook.ipynb#W0sdnNjb2RlLXJlbW90ZQ%3D%3D?line=1'>2</a>\u001b[0m \u001b[39mimport\u001b[39;00m \u001b[39mnumpy\u001b[39;00m \u001b[39mas\u001b[39;00m \u001b[39mnp\u001b[39;00m\n\u001b[0;32m----> <a href='vscode-notebook-cell://ssh-remote%2Bcs-cnmfs/home/cnmfs/ciadosorriso-pyspark/data/cs-relatorios-repasses/notebook.ipynb#W0sdnNjb2RlLXJlbW90ZQ%3D%3D?line=2'>3</a>\u001b[0m \u001b[39mfrom\u001b[39;00m \u001b[39mcnmfs\u001b[39;00m\u001b[39m.\u001b[39;00m\u001b[39mutils\u001b[39;00m \u001b[39mimport\u001b[39;00m \u001b[39m*\u001b[39m\n",
      "\u001b[0;31mModuleNotFoundError\u001b[0m: No module named 'cnmfs'"
     ]
    }
   ],
   "source": [
    "import pandas as pd\n",
    "import numpy as np\n",
    "from cnmfs.utils import *"
   ]
  },
  {
   "cell_type": "code",
   "execution_count": 4,
   "id": "03814336-409e-41a6-8e64-cdd16613a2c6",
   "metadata": {},
   "outputs": [],
   "source": [
    "df = pd.read_parquet('df_data_virada.parquet')"
   ]
  },
  {
   "cell_type": "code",
   "execution_count": 6,
   "id": "e91ed86c-3da8-49a1-bfb1-87fa724bd71f",
   "metadata": {},
   "outputs": [],
   "source": [
    "df2 = df.loc[(df['comissao']> 1) ] # &  & \n",
    "            #  (df['comissao'] != 65) ] # & \n",
    "            #  (df['Courses'].str.startswith('P')),\n",
    "            #         ['Courses','Duration']]\n"
   ]
  },
  {
   "cell_type": "code",
   "execution_count": 12,
   "id": "375e8c1c",
   "metadata": {},
   "outputs": [
    {
     "data": {
      "text/html": [
       "<div>\n",
       "<style scoped>\n",
       "    .dataframe tbody tr th:only-of-type {\n",
       "        vertical-align: middle;\n",
       "    }\n",
       "\n",
       "    .dataframe tbody tr th {\n",
       "        vertical-align: top;\n",
       "    }\n",
       "\n",
       "    .dataframe thead th {\n",
       "        text-align: right;\n",
       "    }\n",
       "</style>\n",
       "<table border=\"1\" class=\"dataframe\">\n",
       "  <thead>\n",
       "    <tr style=\"text-align: right;\">\n",
       "      <th></th>\n",
       "      <th></th>\n",
       "      <th></th>\n",
       "      <th></th>\n",
       "      <th>comissao</th>\n",
       "    </tr>\n",
       "    <tr>\n",
       "      <th>especialidade_primaria</th>\n",
       "      <th>procedimento_generico</th>\n",
       "      <th>descricao</th>\n",
       "      <th>tabela_convenio</th>\n",
       "      <th></th>\n",
       "    </tr>\n",
       "  </thead>\n",
       "  <tbody>\n",
       "    <tr>\n",
       "      <th rowspan=\"5\" valign=\"top\">Cirurgia E Traumatologia Buco</th>\n",
       "      <th rowspan=\"5\" valign=\"top\">Consulta Odontologica</th>\n",
       "      <th rowspan=\"5\" valign=\"top\">Consulta Odontologica</th>\n",
       "      <th>TABELA HAPVIDA</th>\n",
       "      <td>65.000000</td>\n",
       "    </tr>\n",
       "    <tr>\n",
       "      <th>Tabela HAPVIDA</th>\n",
       "      <td>50.250000</td>\n",
       "    </tr>\n",
       "    <tr>\n",
       "      <th>Tabela HAPVIDA - PINA</th>\n",
       "      <td>65.000000</td>\n",
       "    </tr>\n",
       "    <tr>\n",
       "      <th>Tabela ODONTOGROUP</th>\n",
       "      <td>65.000000</td>\n",
       "    </tr>\n",
       "    <tr>\n",
       "      <th>Tabela ODONTOGROUP - OLINDA</th>\n",
       "      <td>65.000000</td>\n",
       "    </tr>\n",
       "    <tr>\n",
       "      <th>...</th>\n",
       "      <th>...</th>\n",
       "      <th>...</th>\n",
       "      <th>...</th>\n",
       "      <td>...</td>\n",
       "    </tr>\n",
       "    <tr>\n",
       "      <th rowspan=\"5\" valign=\"top\">Vendas</th>\n",
       "      <th rowspan=\"5\" valign=\"top\">Produtos: Clorexidina</th>\n",
       "      <th>Kit Clorexidina</th>\n",
       "      <th>Tabela Vendas de Produtos</th>\n",
       "      <td>5.000000</td>\n",
       "    </tr>\n",
       "    <tr>\n",
       "      <th>Kit Clorexidina+Escova</th>\n",
       "      <th>Tabela Vendas de Produtos</th>\n",
       "      <td>5.000000</td>\n",
       "    </tr>\n",
       "    <tr>\n",
       "      <th rowspan=\"2\" valign=\"top\">Porta Aparelho Ortodontico</th>\n",
       "      <th>TABELA PARTICULAR VENDAS PRODUTOS</th>\n",
       "      <td>5.422535</td>\n",
       "    </tr>\n",
       "    <tr>\n",
       "      <th>Tabela Vendas de Produtos</th>\n",
       "      <td>5.000000</td>\n",
       "    </tr>\n",
       "    <tr>\n",
       "      <th>Porta Dente</th>\n",
       "      <th>Tabela Vendas de Produtos</th>\n",
       "      <td>5.000000</td>\n",
       "    </tr>\n",
       "  </tbody>\n",
       "</table>\n",
       "<p>253 rows × 1 columns</p>\n",
       "</div>"
      ],
      "text/plain": [
       "                                                                                                                   comissao\n",
       "especialidade_primaria        procedimento_generico descricao                  tabela_convenio                             \n",
       "Cirurgia E Traumatologia Buco Consulta Odontologica Consulta Odontologica      TABELA HAPVIDA                     65.000000\n",
       "                                                                               Tabela HAPVIDA                     50.250000\n",
       "                                                                               Tabela HAPVIDA - PINA              65.000000\n",
       "                                                                               Tabela ODONTOGROUP                 65.000000\n",
       "                                                                               Tabela ODONTOGROUP - OLINDA        65.000000\n",
       "...                                                                                                                     ...\n",
       "Vendas                        Produtos: Clorexidina Kit Clorexidina            Tabela Vendas de Produtos           5.000000\n",
       "                                                    Kit Clorexidina+Escova     Tabela Vendas de Produtos           5.000000\n",
       "                                                    Porta Aparelho Ortodontico TABELA PARTICULAR VENDAS PRODUTOS   5.422535\n",
       "                                                                               Tabela Vendas de Produtos           5.000000\n",
       "                                                    Porta Dente                Tabela Vendas de Produtos           5.000000\n",
       "\n",
       "[253 rows x 1 columns]"
      ]
     },
     "execution_count": 12,
     "metadata": {},
     "output_type": "execute_result"
    }
   ],
   "source": [
    "pd.pivot_table(df2, index=['especialidade_primaria', 'procedimento_generico', 'descricao', 'tabela_convenio', ],\n",
    "            values = ['comissao'],\n",
    "            aggfunc = 'mean' )"
   ]
  }
 ],
 "metadata": {
  "kernelspec": {
   "display_name": "Python 3 (ipykernel)",
   "language": "python",
   "name": "python3"
  },
  "language_info": {
   "codemirror_mode": {
    "name": "ipython",
    "version": 3
   },
   "file_extension": ".py",
   "mimetype": "text/x-python",
   "name": "python",
   "nbconvert_exporter": "python",
   "pygments_lexer": "ipython3",
   "version": "3.10.4"
  },
  "widgets": {
   "application/vnd.jupyter.widget-state+json": {
    "state": {},
    "version_major": 2,
    "version_minor": 0
   }
  }
 },
 "nbformat": 4,
 "nbformat_minor": 5
}
